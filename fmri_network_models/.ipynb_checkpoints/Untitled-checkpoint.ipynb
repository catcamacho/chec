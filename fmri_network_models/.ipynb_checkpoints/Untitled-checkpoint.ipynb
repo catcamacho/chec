{
 "cells": [
  {
   "cell_type": "code",
   "execution_count": 6,
   "metadata": {},
   "outputs": [
    {
     "ename": "FileNotFoundError",
     "evalue": "[Errno 2] No such file or directory: 'timeseries.tLxt'",
     "output_type": "error",
     "traceback": [
      "\u001b[0;31m---------------------------------------------------------------------------\u001b[0m",
      "\u001b[0;31mFileNotFoundError\u001b[0m                         Traceback (most recent call last)",
      "\u001b[0;32m<ipython-input-6-69fa07e9c5a5>\u001b[0m in \u001b[0;36m<module>\u001b[0;34m()\u001b[0m\n\u001b[1;32m     35\u001b[0m     \u001b[0;32mreturn\u001b[0m\u001b[0;34m(\u001b[0m\u001b[0mtimeseries_file\u001b[0m\u001b[0;34m)\u001b[0m\u001b[0;34m\u001b[0m\u001b[0m\n\u001b[1;32m     36\u001b[0m \u001b[0;34m\u001b[0m\u001b[0m\n\u001b[0;32m---> 37\u001b[0;31m \u001b[0mtimeseries_file\u001b[0m \u001b[0;34m=\u001b[0m \u001b[0mparallel_pull\u001b[0m\u001b[0;34m(\u001b[0m\u001b[0mts\u001b[0m\u001b[0;34m,\u001b[0m\u001b[0matlas_data\u001b[0m\u001b[0;34m,\u001b[0m\u001b[0mlabels\u001b[0m\u001b[0;34m,\u001b[0m\u001b[0matlas_nifti\u001b[0m\u001b[0;34m)\u001b[0m\u001b[0;34m\u001b[0m\u001b[0m\n\u001b[0m\u001b[1;32m     38\u001b[0m \u001b[0mprint\u001b[0m\u001b[0;34m(\u001b[0m\u001b[0mtimeseries_file\u001b[0m\u001b[0;34m)\u001b[0m\u001b[0;34m\u001b[0m\u001b[0m\n",
      "\u001b[0;31mFileNotFoundError\u001b[0m: [Errno 2] No such file or directory: 'timeseries.tLxt'"
     ]
    }
   ],
   "source": [
    "atlas='/home/camachocm2/Analysis/ChEC/fmri_proc/template/composite_Gordon_atlas_3mm.nii.gz'\n",
    "func='/home/camachocm2/Analysis/ChEC/fmri_proc/workflows/L1workflow/_subjid_pilot002/high_pass/denoised_func_filt.nii.gz'\n",
    "\n",
    "from pandas import DataFrame, Series\n",
    "from numpy import unique, zeros_like\n",
    "from nipype.interfaces.fsl.utils import ImageMeants \n",
    "from nibabel import load, save, Nifti1Image\n",
    "from numba import autojit, prange\n",
    "\n",
    "timeseries_df = DataFrame()\n",
    "atlas_nifti = load(atlas)\n",
    "atlas_data = atlas_nifti.get_data()\n",
    "labels = unique(atlas_data)\n",
    "\n",
    "ts = ImageMeants()\n",
    "ts.inputs.in_file = func\n",
    "ts.inputs.out_file = 'timeseries.txt'\n",
    "\n",
    "@autojit\n",
    "def parallel_pull(ts,atlas_data,labels,atlas_nifti):\n",
    "    for label in labels:\n",
    "        temp = zeros_like(atlas_data)\n",
    "        temp[atlas_data==label] = 1\n",
    "        temp_nii = Nifti1Image(temp, atlas_nifti.affine, header=atlas_nifti.header)\n",
    "        save(temp_nii, 'temp_mask.nii.gz')\n",
    "\n",
    "        ts.inputs.mask = 'temp_mask.nii.gz'\n",
    "        ts.run()\n",
    "        region_timeseries = open('timeseries.txt').read().splitlines()\n",
    "        timeseries_df['label' + str(label)] = Series(region_timeseries, index=None)\n",
    "\n",
    "    timeseries_df.to_csv('atlas_timeseries.csv')\n",
    "    timeseries_file = abspath('atlas_timeseries.csv')\n",
    "    \n",
    "    return(timeseries_file)\n",
    "\n",
    "timeseries_file = parallel_pull(ts,atlas_data,labels,atlas_nifti)\n",
    "print(timeseries_file)"
   ]
  },
  {
   "cell_type": "code",
   "execution_count": null,
   "metadata": {},
   "outputs": [],
   "source": []
  }
 ],
 "metadata": {
  "kernelspec": {
   "display_name": "Python 3",
   "language": "python",
   "name": "python3"
  },
  "language_info": {
   "codemirror_mode": {
    "name": "ipython",
    "version": 3
   },
   "file_extension": ".py",
   "mimetype": "text/x-python",
   "name": "python",
   "nbconvert_exporter": "python",
   "pygments_lexer": "ipython3",
   "version": "3.5.2"
  }
 },
 "nbformat": 4,
 "nbformat_minor": 2
}
