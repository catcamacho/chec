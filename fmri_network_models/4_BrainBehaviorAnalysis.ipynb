{
 "cells": [
  {
   "cell_type": "code",
   "execution_count": 22,
   "metadata": {},
   "outputs": [],
   "source": [
    "from glob import glob\n",
    "import numpy as np\n",
    "import statsmodels.api as sm\n",
    "import pandas as pd\n",
    "from os.path import dirname,basename\n",
    "\n",
    "# Set study variables\n",
    "analysis_home = '/data/perlman/moochie/user_data/CamachoCat/ChEC/fmri_proc'\n",
    "output_dir = analysis_home + '/proc/network_analysis'\n",
    "eyetracking_file = '/data/perlman/moochie/user_data/CamachoCat/ChEC/summarized_eyetracking_20200901.csv'\n",
    "subject_info = pd.read_csv(analysis_home + '/misc/subjectinfo.csv', index_col=None)\n",
    "subject_info = subject_info[subject_info['usable.25']==1]\n",
    "subjects_list = subject_info['SubjID'].tolist()\n",
    "template_atlas = analysis_home + '/template/MMP_subcort_warped.nii.gz'\n",
    "template_atlas_key = analysis_home + '/template/MMP_subcort.csv'"
   ]
  },
  {
   "cell_type": "code",
   "execution_count": 21,
   "metadata": {},
   "outputs": [],
   "source": [
    "# create CSV with subject-level network data\n",
    "subject_beta_mats=glob(output_dir +'/correlation_matrix/*/correlation_matrix.csv')\n",
    "subject_beta_mats = sorted(subject_beta_mats)\n",
    "\n",
    "labels_df = pd.read_csv(template_atlas_key, index_col=None)\n",
    "labels_df = labels_df.sort_values(by=['network_num'])\n",
    "final_comms = labels_df.loc[:,['network_num','region_name']]\n",
    "\n",
    "colnames = []\n",
    "i=1\n",
    "for a in range(1,8):\n",
    "    for b in range(i,8):\n",
    "        colnames.append('net{0}_net{1}'.format(a,b))\n",
    "    i=i+1\n",
    "sub_data = pd.DataFrame(columns=colnames,index=subjects_list)\n",
    "\n",
    "for sub in subject_beta_mats:\n",
    "    subID = int(basename(dirname(sub)))\n",
    "    t = pd.read_csv(sub, index_col=0)\n",
    "    t = t.reindex(labels_df['region_name'].tolist(),columns=labels_df['region_name'].tolist())\n",
    "    t.columns = pd.MultiIndex.from_frame(final_comms, names=['network','region'])\n",
    "    t.index = pd.MultiIndex.from_frame(final_comms, names=['network','region'])\n",
    "    t[t==1]= np.nan\n",
    "    t = t.groupby(level=0).mean()\n",
    "    t = t.groupby(level=0, axis=1).mean()\n",
    "    t = t.drop(labels=[0], axis=0)\n",
    "    t = t.drop(labels=[0], axis=1)\n",
    "    i = 1\n",
    "    for a in range(1,8):\n",
    "        for b in range(i,8):\n",
    "            sub_data.loc[subID,'net{0}_net{1}'.format(a,b)] = t.loc[a,b]\n",
    "        i=i+1\n",
    "sub_data.index.name = 'ID'\n",
    "sub_data.to_csv(output_dir + '/overall_conn_20201101.csv')"
   ]
  },
  {
   "cell_type": "code",
   "execution_count": 44,
   "metadata": {},
   "outputs": [
    {
     "data": {
      "text/plain": [
       "Index(['net1_net1', 'net1_net2', 'net1_net3', 'net1_net4', 'net1_net5',\n",
       "       'net1_net6', 'net1_net7', 'net2_net2', 'net2_net3', 'net2_net4',\n",
       "       ...\n",
       "       'Sad_Face_sadface_entrytime', 'Sad_Face_sadface_fixations',\n",
       "       'Sad_Jumble_nonface_rawdwell', 'Sad_Jumble_nonface_firstfix',\n",
       "       'Sad_Jumble_nonface_entrytime', 'Sad_Jumble_nonface_fixations',\n",
       "       'Sad_Jumble_sadface_rawdwell', 'Sad_Jumble_sadface_firstfix',\n",
       "       'Sad_Jumble_sadface_entrytime', 'Sad_Jumble_sadface_fixations'],\n",
       "      dtype='object', length=148)"
      ]
     },
     "execution_count": 44,
     "metadata": {},
     "output_type": "execute_result"
    }
   ],
   "source": [
    "# combine connectivity and eye-tracking data into one file\n",
    "\n",
    "eyetrack = pd.read_csv(eyetracking_file, index_col=0)\n",
    "eyetrack.index.name='ID'\n",
    "data = sub_data.merge(eyetrack, on='ID')\n",
    "data.columns"
   ]
  },
  {
   "cell_type": "code",
   "execution_count": 60,
   "metadata": {},
   "outputs": [
    {
     "name": "stdout",
     "output_type": "stream",
     "text": [
      "#################  Angry  #################\n",
      "firstfix: r=-0.13, p=0.465\n",
      "entrytime: r=-0.35, p=0.044*\n",
      "#################  Sad  #################\n",
      "firstfix: r=0.22, p=0.221\n",
      "entrytime: r=0.15, p=0.41\n",
      "#################  Fear  #################\n",
      "firstfix: r=-0.17, p=0.348\n",
      "entrytime: r=-0.1, p=0.569\n",
      "#################  Angry  #################\n",
      "eye firstfix: r=0.13, p=0.453\n",
      "mouth firstfix: r=0.08, p=0.666\n",
      "eye entrytime: r=0.11, p=0.549\n",
      "mouth entrytime: r=-0.01, p=0.971\n",
      "#################  Sad  #################\n",
      "eye firstfix: r=0.35, p=0.046*\n",
      "mouth firstfix: r=0.12, p=0.522\n",
      "eye entrytime: r=0.23, p=0.192\n",
      "mouth entrytime: r=0.11, p=0.585\n",
      "#################  Fear  #################\n",
      "eye firstfix: r=0.11, p=0.53\n",
      "mouth firstfix: r=0.17, p=0.33\n",
      "eye entrytime: r=0.0, p=0.98\n",
      "mouth entrytime: r=-0.11, p=0.576\n"
     ]
    }
   ],
   "source": [
    "from scipy.stats import spearmanr\n",
    "\n",
    "emotions = ['Angry','Sad','Fear']\n",
    "pres = 'Jumble'\n",
    "aoi = 'face'\n",
    "meas = ['firstfix','entrytime']\n",
    "\n",
    "for e in emotions:\n",
    "    print('#################  {0}  #################'.format(e))\n",
    "    for m in meas:\n",
    "        r, p = spearmanr(data['net4_net5'],data['{0}_{1}_{2}_{3}'.format(e,pres,e.lower()+aoi,m)])\n",
    "        if p < 0.05:\n",
    "            pflag = '*'\n",
    "        else:\n",
    "            pflag=''\n",
    "        print('{0}: r={1}, p={2}{3}'.format(m,round(r,2),round(p,3),pflag))\n",
    "        \n",
    "\n",
    "pres = 'Face'\n",
    "aoi = ['eye','mouth']\n",
    "\n",
    "for e in emotions:\n",
    "    print('#################  {0}  #################'.format(e))\n",
    "    for m in meas:\n",
    "        for a in aoi:\n",
    "            r, p = spearmanr(data['net4_net5'],data['{0}_{1}_{2}_{3}'.format(e,pres,a,m)],nan_policy='omit')\n",
    "            if p < 0.05:\n",
    "                pflag = '*'\n",
    "            else:\n",
    "                pflag=''\n",
    "            print('{0} {1}: r={2}, p={3}{4}'.format(a,m,round(r,2),round(p,3),pflag))"
   ]
  },
  {
   "cell_type": "code",
   "execution_count": 66,
   "metadata": {},
   "outputs": [
    {
     "name": "stdout",
     "output_type": "stream",
     "text": [
      "-0.1657754010695187\n",
      "0.3487700833124503\n"
     ]
    }
   ],
   "source": [
    "subject_info.index = subject_info['SubjID']\n",
    "subject_info.index.name='ID'\n",
    "fulldata = data.merge(subject_info, on='ID')\n",
    "r, p = spearmanr(fulldata['Angry_Jumble_angryface_entrytime'],fulldata['age_cent'],nan_policy='omit')\n",
    "print(r)\n",
    "print(p)"
   ]
  },
  {
   "cell_type": "code",
   "execution_count": 58,
   "metadata": {},
   "outputs": [
    {
     "data": {
      "text/plain": [
       "<Figure size 432x360 with 0 Axes>"
      ]
     },
     "metadata": {},
     "output_type": "display_data"
    },
    {
     "data": {
      "image/png": "[encoded data removed]",
      "text/plain": [
       "<Figure size 360x360 with 1 Axes>"
      ]
     },
     "metadata": {},
     "output_type": "display_data"
    }
   ],
   "source": [
    "import seaborn as sns\n",
    "import matplotlib.pyplot as plt\n",
    "\n",
    "data = data.astype(float)\n",
    "sns.set(context='talk', style='white')\n",
    "plt.figure(figsize=(6,5))\n",
    "sns.lmplot(x='net4_net5',y='Angry_Jumble_angryface_entrytime',data=data, ci=None)\n",
    "plt.savefig('jumble_conn.svg')\n",
    "plt.show()"
   ]
  }
 ],
 "metadata": {
  "kernelspec": {
   "display_name": "python3.6",
   "language": "python",
   "name": "python3"
  },
  "language_info": {
   "codemirror_mode": {
    "name": "ipython",
    "version": 3
   },
   "file_extension": ".py",
   "mimetype": "text/x-python",
   "name": "python",
   "nbconvert_exporter": "python",
   "pygments_lexer": "ipython3",
   "version": "3.8.0"
  }
 },
 "nbformat": 4,
 "nbformat_minor": 4
}
