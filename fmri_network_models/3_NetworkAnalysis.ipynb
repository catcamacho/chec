{
 "cells": [
  {
   "cell_type": "markdown",
   "metadata": {},
   "source": [
    "# Network Analysis\n",
    "\n",
    "This notebook performs network analysis across the entire episode."
   ]
  },
  {
   "cell_type": "code",
   "execution_count": null,
   "metadata": {},
   "outputs": [],
   "source": [
    "# Import stuff\n",
    "from pandas import DataFrame, read_csv\n",
    "from nipype.pipeline.engine import Workflow, Node, MapNode\n",
    "from nipype.interfaces.utility import IdentityInterface, Function\n",
    "from nipype.interfaces.io import SelectFiles, DataSink, DataGrabber\n",
    "from nipype.interfaces.fsl import GLM, Split, Merge, Cluster\n",
    "from nipype.interfaces.fsl.maths import MathsCommand\n",
    "\n",
    "# FSL set up- change default file output type\n",
    "from nipype.interfaces.fsl import FSLCommand\n",
    "FSLCommand.set_default_output_type('NIFTI_GZ')\n",
    "\n",
    "# Set study variables\n",
    "analysis_home = '/data/perlman/moochie/user_data/CamachoCat/ChEC/fmri_proc'\n",
    "templates_dir = '/data/perlman/moochie/user_data/CamachoCat/Aggregate_anats/templates'\n",
    "raw_dir = analysis_home + '/raw'\n",
    "preproc_dir = analysis_home + '/preproc'\n",
    "firstlevel_dir = analysis_home + '/subjectlevel'\n",
    "network_dir = analysis_home + '/network_analysis'\n",
    "workflow_dir = analysis_home + '/workflows'\n",
    "affect_ratings = analysis_home + '/misc/ratings_20200427.csv'\n",
    "\n",
    "gm_mask = templates_dir + '/lcbd_template_2mm_gm.nii.gz'\n",
    "\n",
    "subject_info = read_csv(analysis_home + '/misc/subjectinfo.csv', index_col=None)\n",
    "subjects_list = subject_info['SubjID'].tolist()\n",
    "\n",
    "# data collection specs\n",
    "TR = 0.8 #in seconds\n",
    "duration= 1284"
   ]
  },
  {
   "cell_type": "code",
   "execution_count": null,
   "metadata": {},
   "outputs": [],
   "source": [
    "# Select subjects list\n",
    "infosource = Node(IdentityInterface(fields=['subjid']),\n",
    "                  name='infosource')\n",
    "infosource.iterables = [('subjid', subjects_list)]\n",
    "\n",
    "# Pull files\n",
    "file_template = {'preproc_func': preproc_dir + '/fully_processed_func/{subjid}/lomo_func.nii.gz'}\n",
    "selectfiles = Node(SelectFiles(file_template), name='selectfiles')\n",
    "\n",
    "# Sink data of interest \n",
    "substitutions = [('_subjid_', '')] #output file name substitutions\n",
    "datasink = Node(DataSink(base_directory = network_dir,\n",
    "                        container = network_dir,\n",
    "                        substitutions = substitutions), \n",
    "                name='datasink')"
   ]
  },
  {
   "cell_type": "code",
   "execution_count": null,
   "metadata": {},
   "outputs": [],
   "source": []
  }
 ],
 "metadata": {
  "kernelspec": {
   "display_name": "python3.6",
   "language": "python",
   "name": "python3"
  },
  "language_info": {
   "codemirror_mode": {
    "name": "ipython",
    "version": 3
   },
   "file_extension": ".py",
   "mimetype": "text/x-python",
   "name": "python",
   "nbconvert_exporter": "python",
   "pygments_lexer": "ipython3",
   "version": "3.8.0"
  }
 },
 "nbformat": 4,
 "nbformat_minor": 4
}
